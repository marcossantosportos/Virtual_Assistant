{
 "cells": [
  {
   "cell_type": "code",
   "execution_count": 1,
   "id": "b6c757b9-0425-4923-b04c-a74dbde073f8",
   "metadata": {},
   "outputs": [
    {
     "name": "stderr",
     "output_type": "stream",
     "text": [
      "ERROR: Could not find a version that satisfies the requirement speech_recognition (from versions: none)\n",
      "ERROR: No matching distribution found for speech_recognition\n"
     ]
    }
   ],
   "source": [
    "!pip install speech_recognition"
   ]
  },
  {
   "cell_type": "code",
   "execution_count": 2,
   "id": "e72689ec-2797-439c-ac79-f18c928e2599",
   "metadata": {},
   "outputs": [
    {
     "name": "stdout",
     "output_type": "stream",
     "text": [
      "Collecting SpeechRecognition\n",
      "  Using cached SpeechRecognition-3.10.4-py2.py3-none-any.whl.metadata (28 kB)\n",
      "Requirement already satisfied: requests>=2.26.0 in c:\\users\\marc\\anaconda3\\lib\\site-packages (from SpeechRecognition) (2.31.0)\n",
      "Requirement already satisfied: typing-extensions in c:\\users\\marc\\anaconda3\\lib\\site-packages (from SpeechRecognition) (4.9.0)\n",
      "Requirement already satisfied: charset-normalizer<4,>=2 in c:\\users\\marc\\anaconda3\\lib\\site-packages (from requests>=2.26.0->SpeechRecognition) (2.0.4)\n",
      "Requirement already satisfied: idna<4,>=2.5 in c:\\users\\marc\\anaconda3\\lib\\site-packages (from requests>=2.26.0->SpeechRecognition) (3.4)\n",
      "Requirement already satisfied: urllib3<3,>=1.21.1 in c:\\users\\marc\\anaconda3\\lib\\site-packages (from requests>=2.26.0->SpeechRecognition) (2.0.7)\n",
      "Requirement already satisfied: certifi>=2017.4.17 in c:\\users\\marc\\anaconda3\\lib\\site-packages (from requests>=2.26.0->SpeechRecognition) (2024.2.2)\n",
      "Using cached SpeechRecognition-3.10.4-py2.py3-none-any.whl (32.8 MB)\n",
      "Installing collected packages: SpeechRecognition\n",
      "Successfully installed SpeechRecognition-3.10.4\n",
      "Note: you may need to restart the kernel to use updated packages.\n"
     ]
    }
   ],
   "source": [
    "%pip install SpeechRecognition\n"
   ]
  },
  {
   "cell_type": "code",
   "execution_count": 1,
   "id": "889675e5-96a5-428c-b810-0add94d1788e",
   "metadata": {},
   "outputs": [
    {
     "name": "stdout",
     "output_type": "stream",
     "text": [
      "Collecting pyttsx3\n",
      "  Using cached pyttsx3-2.90-py3-none-any.whl.metadata (3.6 kB)\n",
      "Collecting comtypes (from pyttsx3)\n",
      "  Using cached comtypes-1.4.4-py3-none-any.whl.metadata (6.4 kB)\n",
      "Collecting pypiwin32 (from pyttsx3)\n",
      "  Using cached pypiwin32-223-py3-none-any.whl.metadata (236 bytes)\n",
      "Requirement already satisfied: pywin32 in c:\\users\\marc\\appdata\\roaming\\python\\python311\\site-packages (from pyttsx3) (306)\n",
      "Using cached pyttsx3-2.90-py3-none-any.whl (39 kB)\n",
      "Using cached comtypes-1.4.4-py3-none-any.whl (210 kB)\n",
      "Using cached pypiwin32-223-py3-none-any.whl (1.7 kB)\n",
      "Installing collected packages: pypiwin32, comtypes, pyttsx3\n",
      "Successfully installed comtypes-1.4.4 pypiwin32-223 pyttsx3-2.90\n",
      "Note: you may need to restart the kernel to use updated packages.\n"
     ]
    }
   ],
   "source": [
    "%pip install pyttsx3\n"
   ]
  },
  {
   "cell_type": "code",
   "execution_count": 1,
   "id": "1a0dc322-713e-48ae-949a-3407d652c3e4",
   "metadata": {},
   "outputs": [
    {
     "name": "stdout",
     "output_type": "stream",
     "text": [
      "Collecting pyaudio\n",
      "  Downloading PyAudio-0.2.14-cp311-cp311-win_amd64.whl.metadata (2.7 kB)\n",
      "Downloading PyAudio-0.2.14-cp311-cp311-win_amd64.whl (164 kB)\n",
      "   ---------------------------------------- 0.0/164.1 kB ? eta -:--:--\n",
      "   -- ------------------------------------- 10.2/164.1 kB ? eta -:--:--\n",
      "   ------- ------------------------------- 30.7/164.1 kB 435.7 kB/s eta 0:00:01\n",
      "   ---------------------------- --------- 122.9/164.1 kB 901.1 kB/s eta 0:00:01\n",
      "   ---------------------------------------- 164.1/164.1 kB 1.2 MB/s eta 0:00:00\n",
      "Installing collected packages: pyaudio\n",
      "Successfully installed pyaudio-0.2.14\n",
      "Note: you may need to restart the kernel to use updated packages.\n"
     ]
    }
   ],
   "source": [
    "%pip install pyaudio\n"
   ]
  },
  {
   "cell_type": "code",
   "execution_count": 5,
   "id": "948dc0ee-f06d-48a3-80ca-c7f48babf6d9",
   "metadata": {},
   "outputs": [
    {
     "name": "stdout",
     "output_type": "stream",
     "text": [
      "<function input_instruction at 0x000001C5405A32E0>\n"
     ]
    },
    {
     "ename": "TypeError",
     "evalue": "argument of type 'function' is not iterable",
     "output_type": "error",
     "traceback": [
      "\u001b[1;31m---------------------------------------------------------------------------\u001b[0m",
      "\u001b[1;31mTypeError\u001b[0m                                 Traceback (most recent call last)",
      "Cell \u001b[1;32mIn[5], line 51\u001b[0m\n\u001b[0;32m     49\u001b[0m     \u001b[38;5;28;01melse\u001b[39;00m:\n\u001b[0;32m     50\u001b[0m         talk(\u001b[38;5;124m'\u001b[39m\u001b[38;5;124mPlease repeat\u001b[39m\u001b[38;5;124m'\u001b[39m)\n\u001b[1;32m---> 51\u001b[0m \u001b[43mplay_Jarvis\u001b[49m\u001b[43m(\u001b[49m\u001b[43m)\u001b[49m\n",
      "Cell \u001b[1;32mIn[5], line 30\u001b[0m, in \u001b[0;36mplay_Jarvis\u001b[1;34m()\u001b[0m\n\u001b[0;32m     28\u001b[0m instruction\u001b[38;5;241m=\u001b[39minput_instruction\n\u001b[0;32m     29\u001b[0m \u001b[38;5;28mprint\u001b[39m(instruction)\n\u001b[1;32m---> 30\u001b[0m \u001b[38;5;28;01mif\u001b[39;00m \u001b[38;5;124;43m\"\u001b[39;49m\u001b[38;5;124;43mplay\u001b[39;49m\u001b[38;5;124;43m\"\u001b[39;49m\u001b[43m \u001b[49m\u001b[38;5;129;43;01min\u001b[39;49;00m\u001b[43m \u001b[49m\u001b[43minstruction\u001b[49m:\n\u001b[0;32m     31\u001b[0m     song\u001b[38;5;241m=\u001b[39minstruction\u001b[38;5;241m.\u001b[39mreplace(\u001b[38;5;124m'\u001b[39m\u001b[38;5;124mplay\u001b[39m\u001b[38;5;124m'\u001b[39m,\u001b[38;5;124m\"\u001b[39m\u001b[38;5;124m\"\u001b[39m)\n\u001b[0;32m     32\u001b[0m     talk(\u001b[38;5;124m\"\u001b[39m\u001b[38;5;124mplaying\u001b[39m\u001b[38;5;124m\"\u001b[39m\u001b[38;5;241m+\u001b[39msong)\n",
      "\u001b[1;31mTypeError\u001b[0m: argument of type 'function' is not iterable"
     ]
    }
   ],
   "source": [
    " "
   ]
  },
  {
   "cell_type": "code",
   "execution_count": 5,
   "id": "f085c7b1-86d0-4706-a03f-62858abd6ff9",
   "metadata": {},
   "outputs": [
    {
     "name": "stdout",
     "output_type": "stream",
     "text": [
      "Requirement already satisfied: pywhatkit in c:\\users\\marc\\anaconda3\\lib\\site-packages (5.4)\n",
      "Requirement already satisfied: Pillow in c:\\users\\marc\\anaconda3\\lib\\site-packages (from pywhatkit) (10.2.0)\n",
      "Requirement already satisfied: pyautogui in c:\\users\\marc\\anaconda3\\lib\\site-packages (from pywhatkit) (0.9.54)\n",
      "Requirement already satisfied: requests in c:\\users\\marc\\anaconda3\\lib\\site-packages (from pywhatkit) (2.31.0)\n",
      "Requirement already satisfied: wikipedia in c:\\users\\marc\\anaconda3\\lib\\site-packages (from pywhatkit) (1.4.0)\n",
      "Requirement already satisfied: Flask in c:\\users\\marc\\anaconda3\\lib\\site-packages (from pywhatkit) (2.2.5)\n",
      "Requirement already satisfied: Werkzeug>=2.2.2 in c:\\users\\marc\\anaconda3\\lib\\site-packages (from Flask->pywhatkit) (2.2.3)\n",
      "Requirement already satisfied: Jinja2>=3.0 in c:\\users\\marc\\anaconda3\\lib\\site-packages (from Flask->pywhatkit) (3.1.3)\n",
      "Requirement already satisfied: itsdangerous>=2.0 in c:\\users\\marc\\anaconda3\\lib\\site-packages (from Flask->pywhatkit) (2.0.1)\n",
      "Requirement already satisfied: click>=8.0 in c:\\users\\marc\\anaconda3\\lib\\site-packages (from Flask->pywhatkit) (8.1.7)\n",
      "Requirement already satisfied: pymsgbox in c:\\users\\marc\\anaconda3\\lib\\site-packages (from pyautogui->pywhatkit) (1.0.9)\n",
      "Requirement already satisfied: pytweening>=1.0.4 in c:\\users\\marc\\anaconda3\\lib\\site-packages (from pyautogui->pywhatkit) (1.2.0)\n",
      "Requirement already satisfied: pyscreeze>=0.1.21 in c:\\users\\marc\\anaconda3\\lib\\site-packages (from pyautogui->pywhatkit) (0.1.30)\n",
      "Requirement already satisfied: pygetwindow>=0.0.5 in c:\\users\\marc\\anaconda3\\lib\\site-packages (from pyautogui->pywhatkit) (0.0.9)\n",
      "Requirement already satisfied: mouseinfo in c:\\users\\marc\\anaconda3\\lib\\site-packages (from pyautogui->pywhatkit) (0.1.3)\n",
      "Requirement already satisfied: charset-normalizer<4,>=2 in c:\\users\\marc\\anaconda3\\lib\\site-packages (from requests->pywhatkit) (2.0.4)\n",
      "Requirement already satisfied: idna<4,>=2.5 in c:\\users\\marc\\anaconda3\\lib\\site-packages (from requests->pywhatkit) (3.4)\n",
      "Requirement already satisfied: urllib3<3,>=1.21.1 in c:\\users\\marc\\anaconda3\\lib\\site-packages (from requests->pywhatkit) (2.0.7)\n",
      "Requirement already satisfied: certifi>=2017.4.17 in c:\\users\\marc\\anaconda3\\lib\\site-packages (from requests->pywhatkit) (2024.2.2)\n",
      "Requirement already satisfied: beautifulsoup4 in c:\\users\\marc\\anaconda3\\lib\\site-packages (from wikipedia->pywhatkit) (4.12.2)\n",
      "Requirement already satisfied: colorama in c:\\users\\marc\\appdata\\roaming\\python\\python311\\site-packages (from click>=8.0->Flask->pywhatkit) (0.4.6)\n",
      "Requirement already satisfied: MarkupSafe>=2.0 in c:\\users\\marc\\anaconda3\\lib\\site-packages (from Jinja2>=3.0->Flask->pywhatkit) (2.1.3)\n",
      "Requirement already satisfied: pyrect in c:\\users\\marc\\anaconda3\\lib\\site-packages (from pygetwindow>=0.0.5->pyautogui->pywhatkit) (0.2.0)\n",
      "Requirement already satisfied: soupsieve>1.2 in c:\\users\\marc\\anaconda3\\lib\\site-packages (from beautifulsoup4->wikipedia->pywhatkit) (2.5)\n",
      "Requirement already satisfied: pyperclip in c:\\users\\marc\\anaconda3\\lib\\site-packages (from mouseinfo->pyautogui->pywhatkit) (1.9.0)\n",
      "Note: you may need to restart the kernel to use updated packages.\n"
     ]
    }
   ],
   "source": [
    "%pip install pywhatkit"
   ]
  },
  {
   "cell_type": "code",
   "execution_count": 1,
   "id": "73b77ede-2c26-4b63-abbf-fadd3f39d407",
   "metadata": {},
   "outputs": [
    {
     "name": "stdout",
     "output_type": "stream",
     "text": [
      "Collecting datetime\n",
      "  Downloading DateTime-5.5-py3-none-any.whl.metadata (33 kB)\n",
      "Requirement already satisfied: zope.interface in c:\\users\\marc\\anaconda3\\lib\\site-packages (from datetime) (5.4.0)\n",
      "Requirement already satisfied: pytz in c:\\users\\marc\\anaconda3\\lib\\site-packages (from datetime) (2023.3.post1)\n",
      "Requirement already satisfied: setuptools in c:\\users\\marc\\anaconda3\\lib\\site-packages (from zope.interface->datetime) (68.2.2)\n",
      "Downloading DateTime-5.5-py3-none-any.whl (52 kB)\n",
      "   ---------------------------------------- 0.0/52.6 kB ? eta -:--:--\n",
      "   ----------------------- ---------------- 30.7/52.6 kB 640.0 kB/s eta 0:00:01\n",
      "   ---------------------------------------- 52.6/52.6 kB 673.2 kB/s eta 0:00:00\n",
      "Installing collected packages: datetime\n",
      "Successfully installed datetime-5.5\n",
      "Note: you may need to restart the kernel to use updated packages.\n"
     ]
    }
   ],
   "source": [
    "%pip install datetime"
   ]
  },
  {
   "cell_type": "code",
   "execution_count": 1,
   "id": "55239069-5d90-48a2-8ae0-aa9ecfa8bd50",
   "metadata": {},
   "outputs": [
    {
     "name": "stdout",
     "output_type": "stream",
     "text": [
      "Requirement already satisfied: wikipedia in c:\\users\\marc\\anaconda3\\lib\\site-packages (1.4.0)\n",
      "Requirement already satisfied: beautifulsoup4 in c:\\users\\marc\\anaconda3\\lib\\site-packages (from wikipedia) (4.12.2)\n",
      "Requirement already satisfied: requests<3.0.0,>=2.0.0 in c:\\users\\marc\\anaconda3\\lib\\site-packages (from wikipedia) (2.31.0)\n",
      "Requirement already satisfied: charset-normalizer<4,>=2 in c:\\users\\marc\\anaconda3\\lib\\site-packages (from requests<3.0.0,>=2.0.0->wikipedia) (2.0.4)\n",
      "Requirement already satisfied: idna<4,>=2.5 in c:\\users\\marc\\anaconda3\\lib\\site-packages (from requests<3.0.0,>=2.0.0->wikipedia) (3.4)\n",
      "Requirement already satisfied: urllib3<3,>=1.21.1 in c:\\users\\marc\\anaconda3\\lib\\site-packages (from requests<3.0.0,>=2.0.0->wikipedia) (2.0.7)\n",
      "Requirement already satisfied: certifi>=2017.4.17 in c:\\users\\marc\\anaconda3\\lib\\site-packages (from requests<3.0.0,>=2.0.0->wikipedia) (2024.2.2)\n",
      "Requirement already satisfied: soupsieve>1.2 in c:\\users\\marc\\anaconda3\\lib\\site-packages (from beautifulsoup4->wikipedia) (2.5)\n",
      "Note: you may need to restart the kernel to use updated packages.\n"
     ]
    }
   ],
   "source": [
    "%pip install wikipedia "
   ]
  },
  {
   "cell_type": "code",
   "execution_count": 12,
   "id": "c8094232-4ab6-4aae-a2a0-21de4a47787c",
   "metadata": {},
   "outputs": [
    {
     "name": "stdout",
     "output_type": "stream",
     "text": [
      "listening...\n",
      "play magic in the hamptons\n",
      "play magic in the hamptons\n"
     ]
    }
   ],
   "source": [
    "#This works\n",
    "import speech_recognition as aa\n",
    "import pyttsx3\n",
    "import pywhatkit\n",
    "import datetime\n",
    "import wikipedia\n",
    "from geopy.geocoders import Nominatim\n",
    "# Initialize the recognizer and the speech engine\n",
    "listener = aa.Recognizer()\n",
    "machine = pyttsx3.init()\n",
    "\n",
    "def talk(text):\n",
    "    machine.say(text)\n",
    "    machine.runAndWait()\n",
    "\n",
    "def input_instruction():\n",
    "    global instruction\n",
    "    try:\n",
    "        with aa.Microphone() as origin:\n",
    "            print(\"listening...\")\n",
    "            speech = listener.listen(origin)\n",
    "            instruction = listener.recognize_google(speech)\n",
    "            instruction = instruction.lower()\n",
    "            if \"jarvis\" in instruction:\n",
    "                instruction = instruction.replace('jarvis', \"\")\n",
    "            print(instruction)\n",
    "    except Exception as e:\n",
    "        print(\"Error:\", e)\n",
    "        instruction = \"\"\n",
    "    return instruction\n",
    "def play_Jarvis():\n",
    "    instruction = input_instruction()\n",
    "    print(instruction)\n",
    "    if \"play\" in instruction:\n",
    "        song = instruction.replace('play', \"\").strip()\n",
    "        talk(\"playing \" + song)\n",
    "        pywhatkit.playonyt(song)\n",
    "    elif \"time\" in instruction:\n",
    "        time = datetime.datetime.now().strftime('%I:%M %p')\n",
    "        talk(\"Current time \" + time)\n",
    "    elif \"date\" in instruction:\n",
    "        date = datetime.datetime.now().strftime('%d/%m/%Y')\n",
    "        talk(\"Today's date \" + date)\n",
    "    elif \"how are you\" in instruction:\n",
    "        talk(\"I am fine, how about you\")\n",
    "    elif \"what is your name\" in instruction:\n",
    "        talk('I am Jarvis, What can I do for you')\n",
    "    elif \"who is\" in instruction:\n",
    "        human = instruction.replace('who is', \"\").strip()\n",
    "        info = wikipedia.summary(human, 1)\n",
    "        print(info)\n",
    "        talk(info)\n",
    "    elif \"Where can I find some kids\":\n",
    "        talk(\"At Jeffrey Epstein's Island ,you Paedophile\")\n",
    "        \n",
    "    else:\n",
    "        talk('Please repeat')\n",
    "\n",
    "play_Jarvis()\n"
   ]
  },
  {
   "cell_type": "code",
   "execution_count": 33,
   "id": "4e1993ed-3f1f-4697-80e1-de04e219f7e4",
   "metadata": {},
   "outputs": [
    {
     "name": "stdout",
     "output_type": "stream",
     "text": [
      "Collecting geopyNote: you may need to restart the kernel to use updated packages.\n",
      "\n",
      "  Downloading geopy-2.4.1-py3-none-any.whl.metadata (6.8 kB)\n",
      "Collecting geographiclib<3,>=1.52 (from geopy)\n",
      "  Downloading geographiclib-2.0-py3-none-any.whl.metadata (1.4 kB)\n",
      "Downloading geopy-2.4.1-py3-none-any.whl (125 kB)\n",
      "   ---------------------------------------- 0.0/125.4 kB ? eta -:--:--\n",
      "   --------- ------------------------------ 30.7/125.4 kB 1.3 MB/s eta 0:00:01\n",
      "   --------- ------------------------------ 30.7/125.4 kB 1.3 MB/s eta 0:00:01\n",
      "   --------- ------------------------------ 30.7/125.4 kB 1.3 MB/s eta 0:00:01\n",
      "   --------- ------------------------------ 30.7/125.4 kB 1.3 MB/s eta 0:00:01\n",
      "   ---------------------------------- --- 112.6/125.4 kB 502.0 kB/s eta 0:00:01\n",
      "   ---------------------------------- --- 112.6/125.4 kB 502.0 kB/s eta 0:00:01\n",
      "   -------------------------------------  122.9/125.4 kB 359.9 kB/s eta 0:00:01\n",
      "   -------------------------------------- 125.4/125.4 kB 368.0 kB/s eta 0:00:00\n",
      "Downloading geographiclib-2.0-py3-none-any.whl (40 kB)\n",
      "   ---------------------------------------- 0.0/40.3 kB ? eta -:--:--\n",
      "   ---------------------------------------- 40.3/40.3 kB ? eta 0:00:00\n",
      "Installing collected packages: geographiclib, geopy\n",
      "Successfully installed geographiclib-2.0 geopy-2.4.1\n"
     ]
    }
   ],
   "source": [
    "%pip install geopy"
   ]
  },
  {
   "cell_type": "code",
   "execution_count": 35,
   "id": "cdf9fb5f-1a4f-41b7-a0ed-d43610e5f436",
   "metadata": {},
   "outputs": [
    {
     "name": "stdout",
     "output_type": "stream",
     "text": [
      "Requirement already satisfied: requests in c:\\users\\marc\\anaconda3\\lib\\site-packages (2.31.0)\n",
      "Requirement already satisfied: charset-normalizer<4,>=2 in c:\\users\\marc\\anaconda3\\lib\\site-packages (from requests) (2.0.4)\n",
      "Requirement already satisfied: idna<4,>=2.5 in c:\\users\\marc\\anaconda3\\lib\\site-packages (from requests) (3.4)\n",
      "Requirement already satisfied: urllib3<3,>=1.21.1 in c:\\users\\marc\\anaconda3\\lib\\site-packages (from requests) (2.0.7)\n",
      "Requirement already satisfied: certifi>=2017.4.17 in c:\\users\\marc\\anaconda3\\lib\\site-packages (from requests) (2024.2.2)\n",
      "Note: you may need to restart the kernel to use updated packages.\n"
     ]
    }
   ],
   "source": [
    "%pip install requests"
   ]
  },
  {
   "cell_type": "code",
   "execution_count": 57,
   "id": "891a77d4-c0b4-4602-8aec-be510f752ada",
   "metadata": {},
   "outputs": [
    {
     "name": "stdout",
     "output_type": "stream",
     "text": [
      "listening...\n",
      "who is martin luther king\n",
      "who is martin luther king\n",
      "Martin Luther King Jr. (born Michael King Jr.; January 15, 1929 – April 4, 1968) was an American Baptist minister, activist, and political philosopher who was one of the most prominent leaders in the civil rights movement from 1955 until his assassination in 1968.\n"
     ]
    }
   ],
   "source": [
    "#This works\n",
    "import speech_recognition as aa\n",
    "import pyttsx3\n",
    "import pywhatkit\n",
    "import datetime\n",
    "import wikipedia\n",
    "from geopy.geocoders import Nominatim\n",
    "import requests\n",
    "\n",
    "# Initialize the recognizer and the speech engine\n",
    "listener = aa.Recognizer()\n",
    "machine = pyttsx3.init()\n",
    "\n",
    "def talk(text):\n",
    "    machine.say(text)\n",
    "    machine.runAndWait()\n",
    "\n",
    "def input_instruction():\n",
    "    global instruction\n",
    "    try:\n",
    "        with aa.Microphone() as origin:\n",
    "            print(\"listening...\")\n",
    "            speech = listener.listen(origin)\n",
    "            instruction = listener.recognize_google(speech)\n",
    "            instruction = instruction.lower()\n",
    "            if \"jarvis\" in instruction:\n",
    "                instruction = instruction.replace('jarvis', \"\")\n",
    "            print(instruction)\n",
    "    except Exception as e:\n",
    "        print(\"Error:\", e)\n",
    "        instruction = \"\"\n",
    "    return instruction\n",
    "\n",
    "def get_location_info(place):\n",
    "    geolocator = Nominatim(user_agent=\"jarvis_assistant\")\n",
    "    try:\n",
    "        location = geolocator.geocode(place)\n",
    "        if location:\n",
    "            return location.address\n",
    "        else:\n",
    "            return \"I couldn't find the location.\"\n",
    "    except Exception as e:\n",
    "        return f\"Error finding location: {str(e)}\"\n",
    "\n",
    "def get_weather_info(city):\n",
    "    api_key = \"your_openweathermap_api_key\"  # Replace with your OpenWeatherMap API key\n",
    "    base_url = \"http://api.openweathermap.org/data/2.5/weather?\"\n",
    "    complete_url = base_url + \"q=\" + city + \"&appid=\" + api_key + \"&units=metric\"\n",
    "    response = requests.get(complete_url)\n",
    "    data = response.json()\n",
    "    if data.get(\"cod\") != \"404\":\n",
    "        weather = data.get(\"weather\", [{}])[0]\n",
    "        description = weather.get(\"description\")\n",
    "        weather_report = f\"The weather in {city} is currently {description}.\"\n",
    "        return weather_report\n",
    "    else:\n",
    "        return \"I couldn't find the weather information for that location.\"\n",
    "\n",
    "def play_Jarvis():\n",
    "    instruction = input_instruction()\n",
    "    print(instruction)\n",
    "    if \"play\" in instruction:\n",
    "        song = instruction.replace('play', \"\").strip()\n",
    "        talk(\"playing \" + song)\n",
    "        pywhatkit.playonyt(song)\n",
    "    elif \"time\" in instruction:\n",
    "        time = datetime.datetime.now().strftime('%I:%M %p')\n",
    "        talk(\"Current time \" + time)\n",
    "    elif \"date\" in instruction:\n",
    "        date = datetime.datetime.now().strftime('%d/%m/%Y')\n",
    "        talk(\"Today's date \" + date)\n",
    "    elif \"how are you\" in instruction:\n",
    "        talk(\"I am fine, how about you\")\n",
    "    elif \"what is your name\" in instruction:\n",
    "        talk('I am Jarvis, What can I do for you')\n",
    "    elif \"who is\" in instruction:\n",
    "        human = instruction.replace('who is', \"\").strip()\n",
    "        info = wikipedia.summary(human, 2)\n",
    "        print(info)\n",
    "        talk(info)\n",
    "    elif \"where is\" in instruction:\n",
    "        place = instruction.replace('where is', \"\").strip()\n",
    "        location_info = get_location_info(place)\n",
    "        print(location_info)\n",
    "        talk(location_info)\n",
    "    elif \"weather in\" in instruction:\n",
    "        city = instruction.replace('weather in', \"\").strip()\n",
    "        weather_info = get_weather_info(city)\n",
    "        print(weather_info)\n",
    "        talk(weather_info)\n",
    "    else:\n",
    "        talk('Please repeat')\n",
    "\n",
    "play_Jarvis()\n"
   ]
  },
  {
   "cell_type": "code",
   "execution_count": 24,
   "id": "36c45e57-0f79-4a30-9ff5-050bbcb20ad3",
   "metadata": {},
   "outputs": [
    {
     "name": "stdout",
     "output_type": "stream",
     "text": [
      "Collecting seleniumNote: you may need to restart the kernel to use updated packages.\n",
      "\n",
      "  Downloading selenium-4.22.0-py3-none-any.whl.metadata (7.0 kB)\n",
      "Requirement already satisfied: urllib3<3,>=1.26 in c:\\users\\marc\\anaconda3\\lib\\site-packages (from urllib3[socks]<3,>=1.26->selenium) (2.0.7)\n",
      "Collecting trio~=0.17 (from selenium)\n",
      "  Downloading trio-0.25.1-py3-none-any.whl.metadata (8.7 kB)\n",
      "Collecting trio-websocket~=0.9 (from selenium)\n",
      "  Downloading trio_websocket-0.11.1-py3-none-any.whl.metadata (4.7 kB)\n",
      "Requirement already satisfied: certifi>=2021.10.8 in c:\\users\\marc\\anaconda3\\lib\\site-packages (from selenium) (2024.2.2)\n",
      "Requirement already satisfied: typing_extensions>=4.9.0 in c:\\users\\marc\\anaconda3\\lib\\site-packages (from selenium) (4.9.0)\n",
      "Collecting websocket-client>=1.8.0 (from selenium)\n",
      "  Using cached websocket_client-1.8.0-py3-none-any.whl.metadata (8.0 kB)\n",
      "Collecting attrs>=23.2.0 (from trio~=0.17->selenium)\n",
      "  Using cached attrs-23.2.0-py3-none-any.whl.metadata (9.5 kB)\n",
      "Requirement already satisfied: sortedcontainers in c:\\users\\marc\\anaconda3\\lib\\site-packages (from trio~=0.17->selenium) (2.4.0)\n",
      "Requirement already satisfied: idna in c:\\users\\marc\\anaconda3\\lib\\site-packages (from trio~=0.17->selenium) (3.4)\n",
      "Collecting outcome (from trio~=0.17->selenium)\n",
      "  Downloading outcome-1.3.0.post0-py2.py3-none-any.whl.metadata (2.6 kB)\n",
      "Requirement already satisfied: sniffio>=1.3.0 in c:\\users\\marc\\anaconda3\\lib\\site-packages (from trio~=0.17->selenium) (1.3.0)\n",
      "Requirement already satisfied: cffi>=1.14 in c:\\users\\marc\\anaconda3\\lib\\site-packages (from trio~=0.17->selenium) (1.16.0)\n",
      "Collecting wsproto>=0.14 (from trio-websocket~=0.9->selenium)\n",
      "  Downloading wsproto-1.2.0-py3-none-any.whl.metadata (5.6 kB)\n",
      "Requirement already satisfied: pysocks!=1.5.7,<2.0,>=1.5.6 in c:\\users\\marc\\anaconda3\\lib\\site-packages (from urllib3[socks]<3,>=1.26->selenium) (1.7.1)\n",
      "Requirement already satisfied: pycparser in c:\\users\\marc\\anaconda3\\lib\\site-packages (from cffi>=1.14->trio~=0.17->selenium) (2.21)\n",
      "Collecting h11<1,>=0.9.0 (from wsproto>=0.14->trio-websocket~=0.9->selenium)\n",
      "  Using cached h11-0.14.0-py3-none-any.whl.metadata (8.2 kB)\n",
      "Downloading selenium-4.22.0-py3-none-any.whl (9.4 MB)\n",
      "   ---------------------------------------- 0.0/9.4 MB ? eta -:--:--\n",
      "   ---------------------------------------- 0.1/9.4 MB 1.7 MB/s eta 0:00:06\n",
      "    --------------------------------------- 0.2/9.4 MB 1.8 MB/s eta 0:00:06\n",
      "   - -------------------------------------- 0.3/9.4 MB 2.4 MB/s eta 0:00:04\n",
      "   -- ------------------------------------- 0.5/9.4 MB 2.9 MB/s eta 0:00:04\n",
      "   --- ------------------------------------ 0.7/9.4 MB 3.3 MB/s eta 0:00:03\n",
      "   ---- ----------------------------------- 1.0/9.4 MB 3.6 MB/s eta 0:00:03\n",
      "   ---- ----------------------------------- 1.2/9.4 MB 3.7 MB/s eta 0:00:03\n",
      "   ----- ---------------------------------- 1.4/9.4 MB 3.9 MB/s eta 0:00:03\n",
      "   ------- -------------------------------- 1.8/9.4 MB 4.3 MB/s eta 0:00:02\n",
      "   -------- ------------------------------- 2.0/9.4 MB 4.5 MB/s eta 0:00:02\n",
      "   --------- ------------------------------ 2.3/9.4 MB 4.5 MB/s eta 0:00:02\n",
      "   ----------- ---------------------------- 2.6/9.4 MB 4.7 MB/s eta 0:00:02\n",
      "   ------------ --------------------------- 3.0/9.4 MB 5.0 MB/s eta 0:00:02\n",
      "   ------------- -------------------------- 3.3/9.4 MB 5.1 MB/s eta 0:00:02\n",
      "   --------------- ------------------------ 3.6/9.4 MB 5.1 MB/s eta 0:00:02\n",
      "   ----------------- ---------------------- 4.1/9.4 MB 5.5 MB/s eta 0:00:01\n",
      "   ------------------ --------------------- 4.4/9.4 MB 5.6 MB/s eta 0:00:01\n",
      "   -------------------- ------------------- 4.8/9.4 MB 5.7 MB/s eta 0:00:01\n",
      "   ---------------------- ----------------- 5.2/9.4 MB 5.9 MB/s eta 0:00:01\n",
      "   ----------------------- ---------------- 5.6/9.4 MB 6.0 MB/s eta 0:00:01\n",
      "   ------------------------- -------------- 6.0/9.4 MB 6.1 MB/s eta 0:00:01\n",
      "   --------------------------- ------------ 6.6/9.4 MB 6.4 MB/s eta 0:00:01\n",
      "   ------------------------------ --------- 7.1/9.4 MB 6.6 MB/s eta 0:00:01\n",
      "   -------------------------------- ------- 7.7/9.4 MB 6.9 MB/s eta 0:00:01\n",
      "   ---------------------------------- ----- 8.2/9.4 MB 7.1 MB/s eta 0:00:01\n",
      "   ------------------------------------- -- 8.8/9.4 MB 7.3 MB/s eta 0:00:01\n",
      "   ---------------------------------------  9.2/9.4 MB 7.4 MB/s eta 0:00:01\n",
      "   ---------------------------------------- 9.4/9.4 MB 7.3 MB/s eta 0:00:00\n",
      "Downloading trio-0.25.1-py3-none-any.whl (467 kB)\n",
      "   ---------------------------------------- 0.0/467.7 kB ? eta -:--:--\n",
      "   --------------------------------------  460.8/467.7 kB 14.5 MB/s eta 0:00:01\n",
      "   ---------------------------------------- 467.7/467.7 kB 9.7 MB/s eta 0:00:00\n",
      "Downloading trio_websocket-0.11.1-py3-none-any.whl (17 kB)\n",
      "Using cached websocket_client-1.8.0-py3-none-any.whl (58 kB)\n",
      "Using cached attrs-23.2.0-py3-none-any.whl (60 kB)\n",
      "Downloading wsproto-1.2.0-py3-none-any.whl (24 kB)\n",
      "Downloading outcome-1.3.0.post0-py2.py3-none-any.whl (10 kB)\n",
      "Using cached h11-0.14.0-py3-none-any.whl (58 kB)\n",
      "Installing collected packages: websocket-client, h11, attrs, wsproto, outcome, trio, trio-websocket, selenium\n",
      "  Attempting uninstall: websocket-client\n",
      "    Found existing installation: websocket-client 0.58.0\n",
      "    Uninstalling websocket-client-0.58.0:\n",
      "      Successfully uninstalled websocket-client-0.58.0\n",
      "  Attempting uninstall: attrs\n",
      "    Found existing installation: attrs 23.1.0\n",
      "    Uninstalling attrs-23.1.0:\n",
      "      Successfully uninstalled attrs-23.1.0\n",
      "Successfully installed attrs-23.2.0 h11-0.14.0 outcome-1.3.0.post0 selenium-4.22.0 trio-0.25.1 trio-websocket-0.11.1 websocket-client-1.8.0 wsproto-1.2.0\n"
     ]
    },
    {
     "name": "stderr",
     "output_type": "stream",
     "text": [
      "ERROR: pip's dependency resolver does not currently take into account all the packages that are installed. This behaviour is the source of the following dependency conflicts.\n",
      "spyder 5.4.3 requires jedi<0.19.0,>=0.17.2, but you have jedi 0.19.1 which is incompatible.\n"
     ]
    }
   ],
   "source": [
    "%pip install selenium"
   ]
  },
  {
   "cell_type": "code",
   "execution_count": 8,
   "id": "cd91acd4-e2ee-45b3-ba1e-727fe785468d",
   "metadata": {},
   "outputs": [],
   "source": [
    "#This works\n",
    "from selenium import webdriver\n",
    "from selenium.webdriver.chrome.service import Service\n",
    "from selenium.webdriver.common.by import By\n",
    "\n",
    "class inflow:\n",
    "    def __init__(self):\n",
    "        service = Service(r\"C:\\Users\\Marc\\Downloads\\chromedriver-win64\\chromedriver-win64\\chromedriver.exe\")\n",
    "        self.driver = webdriver.Chrome(service=service)\n",
    "    \n",
    "    def get_info(self, query):\n",
    "        self.query = query\n",
    "        self.driver.get(url=\"https://www.wikipedia.org\")\n",
    "        search = self.driver.find_element(By.XPATH, '//*[@id=\"searchInput\"]')\n",
    "        search.click()\n",
    "        search.send_keys(query)\n",
    "        enter = self.driver.find_element(By.XPATH, '//*[@id=\"search-form\"]/fieldset/button')\n",
    "        enter.click()\n",
    "\n",
    "# Example usage:\n"
   ]
  },
  {
   "cell_type": "code",
   "execution_count": 17,
   "id": "54edefd4-e807-4e6e-9226-d27ed8929690",
   "metadata": {},
   "outputs": [
    {
     "name": "stdout",
     "output_type": "stream",
     "text": [
      "Listening...\n",
      "tell me the latest news\n",
      "Listening...\n",
      "tell me the latest news\n",
      "Sure,now I will read the news for you \n",
      "Number 1,Biden refuses cognitive test, denies poll slump in ABC interview - Axios.\n",
      "Number 2,Iran’s reformist Masoud Pezeshkian wins run-off presidential vote: Reports - Al Jazeera English.\n",
      "Number 3,Hurricane Beryl batters Mexico's Yucatán Peninsula - BBC.com.\n"
     ]
    }
   ],
   "source": [
    "#This works\n",
    "import pyttsx3 as p\n",
    "import speech_recognition as sr\n",
    "import randfacts\n",
    "import datetime \n",
    "engine=p.init()\n",
    "rate=engine.getProperty('rate')\n",
    "engine.setProperty('rate',180)\n",
    "voices=engine.getProperty('voices')\n",
    "engine.setProperty('voice',voices[0].id)\n",
    "def speak(text):\n",
    "    engine.say(text)\n",
    "    engine.runAndWait()\n",
    "def wishme():\n",
    "    hour=int(datetime.datetime.now().hour)\n",
    "    if hour>0 and hour <12:\n",
    "        return(\"morning\")\n",
    "    elif hour>=12 and hour<16:\n",
    "        return(\"afternoon\")\n",
    "    else:\n",
    "        return(\"evening\")\n",
    "        \n",
    "r=sr.Recognizer()\n",
    "speak(\"Hello, good \"+wishme()+\" I am your voice assistant\")\n",
    "with sr.Microphone() as source:\n",
    "    r.energy_threshold=10000\n",
    "    r.adjust_for_ambient_noise(source,1.2)\n",
    "    print(\"Listening...\")\n",
    "    audio=r.listen(source)\n",
    "    text=r.recognize_google(audio)\n",
    "    print(text)\n",
    "if \"what\" and \"about\" and \"you\" in text:\n",
    "    speak(\"I'm having a good day\")\n",
    "speak(\"What can I do for you?\")\n",
    "with sr.Microphone() as source:\n",
    "    r.energy_threshold=10000\n",
    "    r.adjust_for_ambient_noise(source,1.2)\n",
    "    print(\"Listening...\")\n",
    "    audio=r.listen(source)\n",
    "    text2=r.recognize_google(audio)\n",
    "    print(text2)\n",
    "if \"information\" in text2:\n",
    "    speak(\"You need information related to which topic?\")\n",
    "    with sr.Microphone() as source:\n",
    "      r.energy_threshold=10000\n",
    "      r.adjust_for_ambient_noise(source,1.2)\n",
    "      print(\"Listening...\")\n",
    "      audio=r.listen(source)\n",
    "      infor=r.recognize_google(audio)\n",
    "      speak(\"Searching {} in wikipedia\".format(infor))\n",
    "    print(infor)\n",
    "    assist=inflow()\n",
    "    assist.get_info(infor)\n",
    "elif \"play\"  in text2:\n",
    "    speak(\"You want me to play which video??\")\n",
    "    with sr.Microphone() as source:\n",
    "      r.energy_threshold=10000\n",
    "      r.adjust_for_ambient_noise(source,1.2)\n",
    "      print(\"Listening...\")\n",
    "      audio=r.listen(source)\n",
    "      vid=r.recognize_google(audio)\n",
    "    print(\"Playing {} on Youtube\".format(vid))\n",
    "    speak(\"Playing {} on Youtube\".format(vid))\n",
    "    assist=Music()\n",
    "    assist.play(vid)\n",
    "elif \"news\" in text2:\n",
    "    print(\"Sure,now I will read the news for you \")\n",
    "    speak(\"Sure, now I will read the news for you \")\n",
    "    arr=news()\n",
    "    for i in range(3):\n",
    "        print(arr[i])\n",
    "        speak(arr[i])\n",
    "elif \"fact\" in text2:\n",
    "    x=randfacts.get_fact()\n",
    "    print(\"Did you know that \"+x)\n",
    "    speak(\"Did you know that \"+x)\n",
    "elif \"joke\" in text2:\n",
    "      arr=joke()\n",
    "      print(arr[0])\n",
    "      speak(arr[0])\n",
    "      print(arr[1])\n",
    "      speak(arr[1])\n",
    "    \n",
    "\n",
    "    \n",
    "   \n",
    "\n",
    "    \n",
    "    \n",
    "    \n",
    "\n",
    "\n",
    "    \n",
    "    \n",
    "    \n",
    "    \n",
    "\n"
   ]
  },
  {
   "cell_type": "code",
   "execution_count": 3,
   "id": "89c1b47a-34fe-4b4a-9fe2-7a4012759874",
   "metadata": {},
   "outputs": [],
   "source": [
    "#This works\n",
    "from selenium import webdriver\n",
    "from selenium.webdriver.chrome.service import Service\n",
    "from selenium.webdriver.common.by import By\n",
    "class Music():\n",
    "    def __init__(self):\n",
    "      service = Service(r\"C:\\Users\\Marc\\Downloads\\chromedriver-win64\\chromedriver-win64\\chromedriver.exe\")\n",
    "      self.driver = webdriver.Chrome(service=service)\n",
    "    def play(self,query):\n",
    "        self.query=query\n",
    "        self.driver.get(url=\"https://www.youtube.com/results?search_query=\"+query)\n",
    "        video=self.driver.find_element(By.XPATH,'//*[@id=\"video-title\"]')\n",
    "        video.click()\n",
    "\n",
    "        \n",
    "        "
   ]
  },
  {
   "cell_type": "code",
   "execution_count": 10,
   "id": "6289629d-a885-4119-ae1d-640a2dec29cb",
   "metadata": {},
   "outputs": [
    {
     "name": "stdout",
     "output_type": "stream",
     "text": [
      "Requirement already satisfied: requests in c:\\users\\marc\\anaconda3\\lib\\site-packages (2.31.0)\n",
      "Requirement already satisfied: charset-normalizer<4,>=2 in c:\\users\\marc\\anaconda3\\lib\\site-packages (from requests) (2.0.4)\n",
      "Requirement already satisfied: idna<4,>=2.5 in c:\\users\\marc\\anaconda3\\lib\\site-packages (from requests) (3.4)\n",
      "Requirement already satisfied: urllib3<3,>=1.21.1 in c:\\users\\marc\\anaconda3\\lib\\site-packages (from requests) (2.0.7)\n",
      "Requirement already satisfied: certifi>=2017.4.17 in c:\\users\\marc\\anaconda3\\lib\\site-packages (from requests) (2024.2.2)\n",
      "Note: you may need to restart the kernel to use updated packages.\n"
     ]
    }
   ],
   "source": [
    "%pip install requests"
   ]
  },
  {
   "cell_type": "code",
   "execution_count": 16,
   "id": "21da3957-dd22-41b3-a239-bcfccc351fb3",
   "metadata": {},
   "outputs": [],
   "source": [
    "#This works\n",
    "import requests \n",
    "api_address=\"http://newsapi.org/v2/top-headlines?country=us&apiKey=\"+\"2cf30b1b233a4c2187598bf202785a2c\"\n",
    "json_data=requests.get(api_address).json()\n",
    "ar=[]\n",
    "def news():\n",
    "    for i in range(3):\n",
    "      ar.append(\"Number \"+str(i+1)+\",\"+json_data[\"articles\"][i][\"title\"]+\".\")\n",
    "\n",
    "    return ar\n",
    "\n",
    "\n",
    "    "
   ]
  },
  {
   "cell_type": "code",
   "execution_count": 6,
   "id": "27dd3404-237f-4aea-a70e-5e5bc521214c",
   "metadata": {},
   "outputs": [
    {
     "name": "stdout",
     "output_type": "stream",
     "text": [
      "Collecting randfacts\n",
      "  Downloading randfacts-0.21.0-py3-none-any.whl.metadata (4.5 kB)\n",
      "Downloading randfacts-0.21.0-py3-none-any.whl (273 kB)\n",
      "   ---------------------------------------- 0.0/273.8 kB ? eta -:--:--\n",
      "   ---- ----------------------------------- 30.7/273.8 kB ? eta -:--:--\n",
      "   ---- ----------------------------------- 30.7/273.8 kB ? eta -:--:--\n",
      "   ---- ----------------------------------- 30.7/273.8 kB ? eta -:--:--\n",
      "   ---- ----------------------------------- 30.7/273.8 kB ? eta -:--:--\n",
      "   ---- ----------------------------------- 30.7/273.8 kB ? eta -:--:--\n",
      "   ---- ----------------------------------- 30.7/273.8 kB ? eta -:--:--\n",
      "   ---- ----------------------------------- 30.7/273.8 kB ? eta -:--:--\n",
      "   -------------------------------------- 273.8/273.8 kB 768.4 kB/s eta 0:00:00\n",
      "Installing collected packages: randfacts\n",
      "Successfully installed randfacts-0.21.0\n",
      "Note: you may need to restart the kernel to use updated packages.\n"
     ]
    }
   ],
   "source": [
    "%pip install randfacts "
   ]
  },
  {
   "cell_type": "code",
   "execution_count": 1,
   "id": "37eaaed4-0811-4e7f-9e76-c51977ba6d7a",
   "metadata": {},
   "outputs": [],
   "source": [
    "#this works\n",
    "import requests\n",
    "url='https://official-joke-api.appspot.com/random_joke'\n",
    "json_data=requests.get(url).json()\n",
    "arr=[\"\",\"\"]\n",
    "arr[0]=json_data[\"setup\"]\n",
    "arr[1]=json_data[\"punchline\"]\n",
    "def joke():\n",
    "    return arr"
   ]
  },
  {
   "cell_type": "code",
   "execution_count": null,
   "id": "93bcd7f1-c7d0-4e33-83b7-1f3f3ec93d30",
   "metadata": {},
   "outputs": [],
   "source": []
  }
 ],
 "metadata": {
  "kernelspec": {
   "display_name": "Python 3 (ipykernel)",
   "language": "python",
   "name": "python3"
  },
  "language_info": {
   "codemirror_mode": {
    "name": "ipython",
    "version": 3
   },
   "file_extension": ".py",
   "mimetype": "text/x-python",
   "name": "python",
   "nbconvert_exporter": "python",
   "pygments_lexer": "ipython3",
   "version": "3.11.7"
  }
 },
 "nbformat": 4,
 "nbformat_minor": 5
}
